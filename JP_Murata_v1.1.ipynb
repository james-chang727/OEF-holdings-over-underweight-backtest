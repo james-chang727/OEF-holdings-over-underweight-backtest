{
 "metadata": {
  "language_info": {
   "codemirror_mode": {
    "name": "ipython",
    "version": 3
   },
   "file_extension": ".py",
   "mimetype": "text/x-python",
   "name": "python",
   "nbconvert_exporter": "python",
   "pygments_lexer": "ipython3",
   "version": "3.7.7-final"
  },
  "orig_nbformat": 2,
  "kernelspec": {
   "name": "python37764bit27b04b86f90642e9b58f839c381ee45c",
   "display_name": "Python 3.7.7 64-bit"
  }
 },
 "nbformat": 4,
 "nbformat_minor": 2,
 "cells": [
  {
   "cell_type": "code",
   "execution_count": 94,
   "metadata": {},
   "outputs": [],
   "source": [
    "import pyodbc\n",
    "import pandas as pd\n",
    "import numpy as np \n",
    "import matplotlib.pyplot as plt\n",
    "\n",
    "conn = pyodbc.connect('DRIVER={ODBC Driver 17 for SQL Server};'\n",
    "                      'SERVER=192.168.0.242;'\n",
    "                      'DATABASE=FundDB;'\n",
    "                      'UID=worker;'\n",
    "                      'PWD=worker;')\n",
    "cursor = conn.cursor()"
   ]
  },
  {
   "source": [
    "Filter out OEFs with geopraphical focus = Japan and add additional benchmark data from mstar&blg and filter out funds benchmarked with TOPIX"
   ],
   "cell_type": "markdown",
   "metadata": {}
  },
  {
   "cell_type": "code",
   "execution_count": 182,
   "metadata": {},
   "outputs": [],
   "source": [
    "stock_name = 'Murata'\n",
    "stock_isin = 'JP3914400001'\n",
    "benchmark = 'TOPIX'"
   ]
  },
  {
   "cell_type": "code",
   "execution_count": 2,
   "metadata": {},
   "outputs": [
    {
     "output_type": "execute_result",
     "data": {
      "text/plain": [
       "{'JP90C00028X9': 'TPX',\n",
       " 'IE00BD6DPB91': 'TOPIX NR JPY',\n",
       " 'JP90C0002A94': 'TPX',\n",
       " 'LU1333207097': 'TOPIX Small TR JPY',\n",
       " 'LU0578148453': 'MSCI Japan NR JPY',\n",
       " 'BE6311189789': 'MSCI Japan SRI NR USD',\n",
       " 'US05587A4040': 'TOPIX TR JPY',\n",
       " 'LU1769942159': 'TOPIX 100 TR JPY',\n",
       " 'JP90C0002EE1': 'TPX',\n",
       " 'JP90C0002EH4': 'TPX',\n",
       " 'LU0258103331': 'TPXDDVD',\n",
       " 'JP90C0000SB1': 'TPX',\n",
       " 'JP90C0003YW9': 'TPX',\n",
       " 'JP90C0001QJ6': 'TPX',\n",
       " 'JP90C0001QK4': 'TPX',\n",
       " 'JP90C0002H06': 'TPCOMM',\n",
       " 'JP90C0001Y97': 'TPX',\n",
       " 'JP90C000A9V7': 'JPNK400',\n",
       " 'LU1205057935': 'TOPIX TR JPY',\n",
       " 'LU1868742187': 'MSCI Japan GR USD',\n",
       " 'LU1212749227': 'TOPIX TR JPY',\n",
       " 'HK0000367414': 'TOPIX',\n",
       " 'JP90C0000755': 'TPX',\n",
       " 'JP90C00007U9': 'TPX',\n",
       " 'JP90C00007C7': 'TPX',\n",
       " 'JP90C000AAS6': 'JPNK400',\n",
       " 'DE000A1WZ3Y1': 'NKY',\n",
       " 'LU0098994485': 'TOPIX TR JPY'}"
      ]
     },
     "metadata": {},
     "execution_count": 2
    }
   ],
   "source": [
    "additional_benchmark = pd.read_excel('data/Mstar_blg_unclassified_benchmark.xlsx', sheet_name=0, usecols=\"B:C\")\n",
    "additional_benchmark = dict(zip(additional_benchmark['ISIN'], additional_benchmark['Primary Prospectus Benchmark']))\n",
    "\n",
    "additional_benchmark"
   ]
  },
  {
   "cell_type": "code",
   "execution_count": 167,
   "metadata": {},
   "outputs": [
    {
     "output_type": "execute_result",
     "data": {
      "text/plain": [
       "     lipper_id                                             e_name launch_date  \\\n",
       "543   68321166  Probus Inv Fund UCITS Saisei Japan Equity A JPY C  2015-05-15   \n",
       "\n",
       "             isin domicile_id price_ccy fund_manager_benchmark  \n",
       "543  LU1205057935         LUX       JPY           TOPIX TR JPY  "
      ],
      "text/html": "<div>\n<style scoped>\n    .dataframe tbody tr th:only-of-type {\n        vertical-align: middle;\n    }\n\n    .dataframe tbody tr th {\n        vertical-align: top;\n    }\n\n    .dataframe thead th {\n        text-align: right;\n    }\n</style>\n<table border=\"1\" class=\"dataframe\">\n  <thead>\n    <tr style=\"text-align: right;\">\n      <th></th>\n      <th>lipper_id</th>\n      <th>e_name</th>\n      <th>launch_date</th>\n      <th>isin</th>\n      <th>domicile_id</th>\n      <th>price_ccy</th>\n      <th>fund_manager_benchmark</th>\n    </tr>\n  </thead>\n  <tbody>\n    <tr>\n      <th>543</th>\n      <td>68321166</td>\n      <td>Probus Inv Fund UCITS Saisei Japan Equity A JPY C</td>\n      <td>2015-05-15</td>\n      <td>LU1205057935</td>\n      <td>LUX</td>\n      <td>JPY</td>\n      <td>TOPIX TR JPY</td>\n    </tr>\n  </tbody>\n</table>\n</div>"
     },
     "metadata": {},
     "execution_count": 167
    }
   ],
   "source": [
    "query_universe = \"select lipper_id, e_name, launch_date, isin, domicile_id, price_ccy, fund_manager_benchmark from m_funds\\\n",
    "                  where geographical_focus = 'Japan' and asset_universe = 'Mutual Funds' and asset_type = 'Equity'\\\n",
    "                  and is_primary_fund = 1 and active = 1 and fund_of_funds = 0\"\n",
    "\n",
    "df_universe = pd.read_sql(query_universe, conn)\n",
    "df_universe['lipper_id'] = df_universe['lipper_id'].apply(lambda x: int(x))\n",
    "\n",
    "for keys in additional_benchmark:\n",
    "    df_universe.at[df_universe[df_universe['isin']==keys].index, 'fund_manager_benchmark'] = additional_benchmark[keys]\n",
    "\n",
    "df_universe[df_universe['isin']=='LU1205057935']"
   ]
  },
  {
   "cell_type": "code",
   "execution_count": 172,
   "metadata": {},
   "outputs": [
    {
     "output_type": "execute_result",
     "data": {
      "text/plain": [
       "     lipper_id                                           e_name launch_date  \\\n",
       "0     68373877     AMO Japan Stock Pick Concentrated Equity Ptf  2016-06-02   \n",
       "1     40005319                          Commonwealth Japan Fund  1989-07-10   \n",
       "2     40224738               BNY Mellon Japan Womenomics Fund;A  2018-09-13   \n",
       "3     60001423                     Comgest Growth Japan JPY Acc  2000-05-19   \n",
       "4     60001642                       Nikko AM Shenton Japan SGD  1986-12-31   \n",
       "..         ...                                              ...         ...   \n",
       "272   62001911           AM-One MHAM Emerging Growth Stock Open  2000-02-25   \n",
       "273   62002905      AberdeenSTD Japan Small Capital Equity Fund  2000-01-27   \n",
       "274   62903721  Daiwa iFreeNEXT Japanese Small Cap Equity Index  2018-10-19   \n",
       "275   60003657                      LionGlobal Japan Growth SGD  1999-12-03   \n",
       "276   62903677      SMDS Healthly 100 Years of Life Equity Fund  2018-09-19   \n",
       "\n",
       "             isin domicile_id price_ccy fund_manager_benchmark  \n",
       "0    LU1375832596         LUX       JPY               Topix TR  \n",
       "1    US2030421067         USA       USD               Topix CR  \n",
       "2    US05587A4040         USA       USD           TOPIX TR JPY  \n",
       "3    IE0004767087         IRL       JPY               Topix NR  \n",
       "4    SG9999004279         SGP       SGD               Topix NR  \n",
       "..            ...         ...       ...                    ...  \n",
       "272  JP90C00030Y3         JPN       JPY               Topix CR  \n",
       "273  JP90C00028X9         JPN       JPY                    TPX  \n",
       "274  JP90C000H0R7         JPN       JPY         Topix Small TR  \n",
       "275  SG9999002331         SGP       SGD               Topix TR  \n",
       "276  JP90C000GT10         JPN       JPY               Topix TR  \n",
       "\n",
       "[277 rows x 7 columns]"
      ],
      "text/html": "<div>\n<style scoped>\n    .dataframe tbody tr th:only-of-type {\n        vertical-align: middle;\n    }\n\n    .dataframe tbody tr th {\n        vertical-align: top;\n    }\n\n    .dataframe thead th {\n        text-align: right;\n    }\n</style>\n<table border=\"1\" class=\"dataframe\">\n  <thead>\n    <tr style=\"text-align: right;\">\n      <th></th>\n      <th>lipper_id</th>\n      <th>e_name</th>\n      <th>launch_date</th>\n      <th>isin</th>\n      <th>domicile_id</th>\n      <th>price_ccy</th>\n      <th>fund_manager_benchmark</th>\n    </tr>\n  </thead>\n  <tbody>\n    <tr>\n      <th>0</th>\n      <td>68373877</td>\n      <td>AMO Japan Stock Pick Concentrated Equity Ptf</td>\n      <td>2016-06-02</td>\n      <td>LU1375832596</td>\n      <td>LUX</td>\n      <td>JPY</td>\n      <td>Topix TR</td>\n    </tr>\n    <tr>\n      <th>1</th>\n      <td>40005319</td>\n      <td>Commonwealth Japan Fund</td>\n      <td>1989-07-10</td>\n      <td>US2030421067</td>\n      <td>USA</td>\n      <td>USD</td>\n      <td>Topix CR</td>\n    </tr>\n    <tr>\n      <th>2</th>\n      <td>40224738</td>\n      <td>BNY Mellon Japan Womenomics Fund;A</td>\n      <td>2018-09-13</td>\n      <td>US05587A4040</td>\n      <td>USA</td>\n      <td>USD</td>\n      <td>TOPIX TR JPY</td>\n    </tr>\n    <tr>\n      <th>3</th>\n      <td>60001423</td>\n      <td>Comgest Growth Japan JPY Acc</td>\n      <td>2000-05-19</td>\n      <td>IE0004767087</td>\n      <td>IRL</td>\n      <td>JPY</td>\n      <td>Topix NR</td>\n    </tr>\n    <tr>\n      <th>4</th>\n      <td>60001642</td>\n      <td>Nikko AM Shenton Japan SGD</td>\n      <td>1986-12-31</td>\n      <td>SG9999004279</td>\n      <td>SGP</td>\n      <td>SGD</td>\n      <td>Topix NR</td>\n    </tr>\n    <tr>\n      <th>...</th>\n      <td>...</td>\n      <td>...</td>\n      <td>...</td>\n      <td>...</td>\n      <td>...</td>\n      <td>...</td>\n      <td>...</td>\n    </tr>\n    <tr>\n      <th>272</th>\n      <td>62001911</td>\n      <td>AM-One MHAM Emerging Growth Stock Open</td>\n      <td>2000-02-25</td>\n      <td>JP90C00030Y3</td>\n      <td>JPN</td>\n      <td>JPY</td>\n      <td>Topix CR</td>\n    </tr>\n    <tr>\n      <th>273</th>\n      <td>62002905</td>\n      <td>AberdeenSTD Japan Small Capital Equity Fund</td>\n      <td>2000-01-27</td>\n      <td>JP90C00028X9</td>\n      <td>JPN</td>\n      <td>JPY</td>\n      <td>TPX</td>\n    </tr>\n    <tr>\n      <th>274</th>\n      <td>62903721</td>\n      <td>Daiwa iFreeNEXT Japanese Small Cap Equity Index</td>\n      <td>2018-10-19</td>\n      <td>JP90C000H0R7</td>\n      <td>JPN</td>\n      <td>JPY</td>\n      <td>Topix Small TR</td>\n    </tr>\n    <tr>\n      <th>275</th>\n      <td>60003657</td>\n      <td>LionGlobal Japan Growth SGD</td>\n      <td>1999-12-03</td>\n      <td>SG9999002331</td>\n      <td>SGP</td>\n      <td>SGD</td>\n      <td>Topix TR</td>\n    </tr>\n    <tr>\n      <th>276</th>\n      <td>62903677</td>\n      <td>SMDS Healthly 100 Years of Life Equity Fund</td>\n      <td>2018-09-19</td>\n      <td>JP90C000GT10</td>\n      <td>JPN</td>\n      <td>JPY</td>\n      <td>Topix TR</td>\n    </tr>\n  </tbody>\n</table>\n<p>277 rows × 7 columns</p>\n</div>"
     },
     "metadata": {},
     "execution_count": 172
    }
   ],
   "source": [
    "df_Topix_funds = df_universe[df_universe['fund_manager_benchmark'].str.contains('Topix|TOPIX|TPX')].reset_index(drop=True)\n",
    "TOPIX_funds_list = df_Topix_funds['lipper_id'].to_list()\n",
    "# df_Topix_funds.set_index('lipper_id', inplace=True)\n",
    "\n",
    "df_Topix_funds"
   ]
  },
  {
   "source": [
    "Start combining 3yrs past holdings data and further filter out funds with frequent holding disclosures to backtest "
   ],
   "cell_type": "markdown",
   "metadata": {}
  },
  {
   "cell_type": "code",
   "execution_count": 5,
   "metadata": {},
   "outputs": [],
   "source": [
    "hldgs1_df = pd.read_csv('data/Mutual_funds_JP_20171031~20180228.csv')\n",
    "hldgs2_df = pd.read_csv('data/Mutual_funds_JP_20180331~20180831.csv')\n",
    "hldgs3_df = pd.read_csv('data/Mutual_funds_JP_20180930~20190228.csv')\n",
    "hldgs4_df = pd.read_csv('data/Mutual_funds_JP_20190331~20190831.csv')\n",
    "hldgs5_df = pd.read_csv('data/Mutual_funds_JP_20190930~20200229.csv')\n",
    "hldgs6_df = pd.read_csv('data/Mutual_funds_JP_20200331~20200930.csv')"
   ]
  },
  {
   "cell_type": "code",
   "execution_count": 8,
   "metadata": {},
   "outputs": [
    {
     "output_type": "execute_result",
     "data": {
      "text/plain": [
       "         LipperID        Date                      Security  WeightCurrent  \\\n",
       "0        40000027  2017/12/31                Aruhi Corp ORD           0.27   \n",
       "1        40000027  2017/12/31       Astellas Pharma Inc ORD           0.76   \n",
       "2        40000027  2017/12/31           Benefit One Inc ORD           1.12   \n",
       "3        40000027  2017/12/31                Calbee Inc ORD           1.18   \n",
       "4        40000027  2017/12/31  Central Japan Railway Co ORD           0.43   \n",
       "...           ...         ...                           ...            ...   \n",
       "1528784  68613707   2020/8/31     Yaskawa Electric Corp ORD           0.23   \n",
       "1528785  68613707   2020/8/31    Yokogawa Electric Corp ORD           0.10   \n",
       "1528786  68613707   2020/8/31    Yokohama Rubber Co Ltd ORD           0.05   \n",
       "1528787  68613707   2020/8/31           Z Holdings Corp ORD           0.48   \n",
       "1528788  68613707   2020/8/31                  ZOZO Inc ORD           0.08   \n",
       "\n",
       "         WeightChange  WeightPrevious  BookValueperShareMRQ  Currency  \\\n",
       "0                 NaN             NaN                571.50       NaN   \n",
       "1               -0.08            0.84                665.68       NaN   \n",
       "2               -0.02            1.14                178.84       NaN   \n",
       "3               -0.19            1.37                   NaN       NaN   \n",
       "4               -0.02            0.45              14831.18       NaN   \n",
       "...               ...             ...                   ...       ...   \n",
       "1528784          0.01            0.23                846.20       NaN   \n",
       "1528785          0.00            0.10               1070.91       NaN   \n",
       "1528786          0.01            0.04               2433.90       NaN   \n",
       "1528787          0.07            0.41                158.10       NaN   \n",
       "1528788          0.00            0.09                   NaN       NaN   \n",
       "\n",
       "             CUSIP  DividendPayoutRatio  ...  PriceToCashFlow  \\\n",
       "0              NaN                  NaN  ...             7.69   \n",
       "1        J03393105                  NaN  ...            11.92   \n",
       "2        J0447X108                  NaN  ...            40.70   \n",
       "3        J05190103                  NaN  ...            18.94   \n",
       "4        J05523105                  NaN  ...             6.49   \n",
       "...            ...                  ...  ...              ...   \n",
       "1528784  J9690T102                  NaN  ...            35.48   \n",
       "1528785  J97272124                  NaN  ...            12.90   \n",
       "1528786  J97536171                  NaN  ...             3.79   \n",
       "1528787  J9894K105                  NaN  ...            18.86   \n",
       "1528788  J9893A108                  NaN  ...            39.03   \n",
       "\n",
       "         PriceToDividend  PriceToEarnings  PriceToSales     RIC  \\\n",
       "0                9999.00            14.47          2.21  7198.T   \n",
       "1                  41.06            16.10          2.29  4503.T   \n",
       "2                  98.29            49.71          6.84  2412.T   \n",
       "3                  87.26            27.76          1.98  2229.T   \n",
       "4                 144.14             9.96          2.32  9022.T   \n",
       "...                  ...              ...           ...     ...   \n",
       "1528784            73.37            64.91          2.58  6506.T   \n",
       "1528785            50.97            29.71          1.18  6841.T   \n",
       "1528786            25.55            10.05          0.48  5101.T   \n",
       "1528787            79.57            43.58          3.13  4689.T   \n",
       "1528788            99.47            43.80          7.10  3092.T   \n",
       "\n",
       "         SalesGrowth1Year  SalesGrowth3Year  SalesPerShareGrowth1Year  \\\n",
       "0                   27.02               NaN                     27.99   \n",
       "1                   -4.45              4.79                     -2.22   \n",
       "2                   13.15             13.14                     13.92   \n",
       "3                    2.56              8.08                      2.50   \n",
       "4                    1.07              2.06                      1.07   \n",
       "...                   ...               ...                       ...   \n",
       "1528784            -13.42              1.34                    -12.74   \n",
       "1528785              0.18              1.09                      0.21   \n",
       "1528786              0.03              4.25                      0.00   \n",
       "1528787             10.29              7.24                     21.67   \n",
       "1528788              6.01             18.00                      6.33   \n",
       "\n",
       "         SalesPerShareGrowth3Year    SEDOL  \n",
       "0                             NaN  BF25643  \n",
       "1                             NaN  6985383  \n",
       "2                             NaN  B02JV67  \n",
       "3                             NaN  B3TBRZ8  \n",
       "4                             NaN  6183552  \n",
       "...                           ...      ...  \n",
       "1528784                       NaN  6986041  \n",
       "1528785                       NaN  6986427  \n",
       "1528786                       NaN  6986461  \n",
       "1528787                       NaN  6084848  \n",
       "1528788                       NaN  B292RC1  \n",
       "\n",
       "[1528789 rows x 29 columns]"
      ],
      "text/html": "<div>\n<style scoped>\n    .dataframe tbody tr th:only-of-type {\n        vertical-align: middle;\n    }\n\n    .dataframe tbody tr th {\n        vertical-align: top;\n    }\n\n    .dataframe thead th {\n        text-align: right;\n    }\n</style>\n<table border=\"1\" class=\"dataframe\">\n  <thead>\n    <tr style=\"text-align: right;\">\n      <th></th>\n      <th>LipperID</th>\n      <th>Date</th>\n      <th>Security</th>\n      <th>WeightCurrent</th>\n      <th>WeightChange</th>\n      <th>WeightPrevious</th>\n      <th>BookValueperShareMRQ</th>\n      <th>Currency</th>\n      <th>CUSIP</th>\n      <th>DividendPayoutRatio</th>\n      <th>...</th>\n      <th>PriceToCashFlow</th>\n      <th>PriceToDividend</th>\n      <th>PriceToEarnings</th>\n      <th>PriceToSales</th>\n      <th>RIC</th>\n      <th>SalesGrowth1Year</th>\n      <th>SalesGrowth3Year</th>\n      <th>SalesPerShareGrowth1Year</th>\n      <th>SalesPerShareGrowth3Year</th>\n      <th>SEDOL</th>\n    </tr>\n  </thead>\n  <tbody>\n    <tr>\n      <th>0</th>\n      <td>40000027</td>\n      <td>2017/12/31</td>\n      <td>Aruhi Corp ORD</td>\n      <td>0.27</td>\n      <td>NaN</td>\n      <td>NaN</td>\n      <td>571.50</td>\n      <td>NaN</td>\n      <td>NaN</td>\n      <td>NaN</td>\n      <td>...</td>\n      <td>7.69</td>\n      <td>9999.00</td>\n      <td>14.47</td>\n      <td>2.21</td>\n      <td>7198.T</td>\n      <td>27.02</td>\n      <td>NaN</td>\n      <td>27.99</td>\n      <td>NaN</td>\n      <td>BF25643</td>\n    </tr>\n    <tr>\n      <th>1</th>\n      <td>40000027</td>\n      <td>2017/12/31</td>\n      <td>Astellas Pharma Inc ORD</td>\n      <td>0.76</td>\n      <td>-0.08</td>\n      <td>0.84</td>\n      <td>665.68</td>\n      <td>NaN</td>\n      <td>J03393105</td>\n      <td>NaN</td>\n      <td>...</td>\n      <td>11.92</td>\n      <td>41.06</td>\n      <td>16.10</td>\n      <td>2.29</td>\n      <td>4503.T</td>\n      <td>-4.45</td>\n      <td>4.79</td>\n      <td>-2.22</td>\n      <td>NaN</td>\n      <td>6985383</td>\n    </tr>\n    <tr>\n      <th>2</th>\n      <td>40000027</td>\n      <td>2017/12/31</td>\n      <td>Benefit One Inc ORD</td>\n      <td>1.12</td>\n      <td>-0.02</td>\n      <td>1.14</td>\n      <td>178.84</td>\n      <td>NaN</td>\n      <td>J0447X108</td>\n      <td>NaN</td>\n      <td>...</td>\n      <td>40.70</td>\n      <td>98.29</td>\n      <td>49.71</td>\n      <td>6.84</td>\n      <td>2412.T</td>\n      <td>13.15</td>\n      <td>13.14</td>\n      <td>13.92</td>\n      <td>NaN</td>\n      <td>B02JV67</td>\n    </tr>\n    <tr>\n      <th>3</th>\n      <td>40000027</td>\n      <td>2017/12/31</td>\n      <td>Calbee Inc ORD</td>\n      <td>1.18</td>\n      <td>-0.19</td>\n      <td>1.37</td>\n      <td>NaN</td>\n      <td>NaN</td>\n      <td>J05190103</td>\n      <td>NaN</td>\n      <td>...</td>\n      <td>18.94</td>\n      <td>87.26</td>\n      <td>27.76</td>\n      <td>1.98</td>\n      <td>2229.T</td>\n      <td>2.56</td>\n      <td>8.08</td>\n      <td>2.50</td>\n      <td>NaN</td>\n      <td>B3TBRZ8</td>\n    </tr>\n    <tr>\n      <th>4</th>\n      <td>40000027</td>\n      <td>2017/12/31</td>\n      <td>Central Japan Railway Co ORD</td>\n      <td>0.43</td>\n      <td>-0.02</td>\n      <td>0.45</td>\n      <td>14831.18</td>\n      <td>NaN</td>\n      <td>J05523105</td>\n      <td>NaN</td>\n      <td>...</td>\n      <td>6.49</td>\n      <td>144.14</td>\n      <td>9.96</td>\n      <td>2.32</td>\n      <td>9022.T</td>\n      <td>1.07</td>\n      <td>2.06</td>\n      <td>1.07</td>\n      <td>NaN</td>\n      <td>6183552</td>\n    </tr>\n    <tr>\n      <th>...</th>\n      <td>...</td>\n      <td>...</td>\n      <td>...</td>\n      <td>...</td>\n      <td>...</td>\n      <td>...</td>\n      <td>...</td>\n      <td>...</td>\n      <td>...</td>\n      <td>...</td>\n      <td>...</td>\n      <td>...</td>\n      <td>...</td>\n      <td>...</td>\n      <td>...</td>\n      <td>...</td>\n      <td>...</td>\n      <td>...</td>\n      <td>...</td>\n      <td>...</td>\n      <td>...</td>\n    </tr>\n    <tr>\n      <th>1528784</th>\n      <td>68613707</td>\n      <td>2020/8/31</td>\n      <td>Yaskawa Electric Corp ORD</td>\n      <td>0.23</td>\n      <td>0.01</td>\n      <td>0.23</td>\n      <td>846.20</td>\n      <td>NaN</td>\n      <td>J9690T102</td>\n      <td>NaN</td>\n      <td>...</td>\n      <td>35.48</td>\n      <td>73.37</td>\n      <td>64.91</td>\n      <td>2.58</td>\n      <td>6506.T</td>\n      <td>-13.42</td>\n      <td>1.34</td>\n      <td>-12.74</td>\n      <td>NaN</td>\n      <td>6986041</td>\n    </tr>\n    <tr>\n      <th>1528785</th>\n      <td>68613707</td>\n      <td>2020/8/31</td>\n      <td>Yokogawa Electric Corp ORD</td>\n      <td>0.10</td>\n      <td>0.00</td>\n      <td>0.10</td>\n      <td>1070.91</td>\n      <td>NaN</td>\n      <td>J97272124</td>\n      <td>NaN</td>\n      <td>...</td>\n      <td>12.90</td>\n      <td>50.97</td>\n      <td>29.71</td>\n      <td>1.18</td>\n      <td>6841.T</td>\n      <td>0.18</td>\n      <td>1.09</td>\n      <td>0.21</td>\n      <td>NaN</td>\n      <td>6986427</td>\n    </tr>\n    <tr>\n      <th>1528786</th>\n      <td>68613707</td>\n      <td>2020/8/31</td>\n      <td>Yokohama Rubber Co Ltd ORD</td>\n      <td>0.05</td>\n      <td>0.01</td>\n      <td>0.04</td>\n      <td>2433.90</td>\n      <td>NaN</td>\n      <td>J97536171</td>\n      <td>NaN</td>\n      <td>...</td>\n      <td>3.79</td>\n      <td>25.55</td>\n      <td>10.05</td>\n      <td>0.48</td>\n      <td>5101.T</td>\n      <td>0.03</td>\n      <td>4.25</td>\n      <td>0.00</td>\n      <td>NaN</td>\n      <td>6986461</td>\n    </tr>\n    <tr>\n      <th>1528787</th>\n      <td>68613707</td>\n      <td>2020/8/31</td>\n      <td>Z Holdings Corp ORD</td>\n      <td>0.48</td>\n      <td>0.07</td>\n      <td>0.41</td>\n      <td>158.10</td>\n      <td>NaN</td>\n      <td>J9894K105</td>\n      <td>NaN</td>\n      <td>...</td>\n      <td>18.86</td>\n      <td>79.57</td>\n      <td>43.58</td>\n      <td>3.13</td>\n      <td>4689.T</td>\n      <td>10.29</td>\n      <td>7.24</td>\n      <td>21.67</td>\n      <td>NaN</td>\n      <td>6084848</td>\n    </tr>\n    <tr>\n      <th>1528788</th>\n      <td>68613707</td>\n      <td>2020/8/31</td>\n      <td>ZOZO Inc ORD</td>\n      <td>0.08</td>\n      <td>0.00</td>\n      <td>0.09</td>\n      <td>NaN</td>\n      <td>NaN</td>\n      <td>J9893A108</td>\n      <td>NaN</td>\n      <td>...</td>\n      <td>39.03</td>\n      <td>99.47</td>\n      <td>43.80</td>\n      <td>7.10</td>\n      <td>3092.T</td>\n      <td>6.01</td>\n      <td>18.00</td>\n      <td>6.33</td>\n      <td>NaN</td>\n      <td>B292RC1</td>\n    </tr>\n  </tbody>\n</table>\n<p>1528789 rows × 29 columns</p>\n</div>"
     },
     "metadata": {},
     "execution_count": 8
    }
   ],
   "source": [
    "df_holdings_3yrs = pd.concat([hldgs1_df, hldgs2_df, hldgs3_df, hldgs4_df, hldgs5_df, hldgs6_df], ignore_index=True)\n",
    "\n",
    "df_holdings_3yrs"
   ]
  },
  {
   "cell_type": "code",
   "execution_count": 9,
   "metadata": {},
   "outputs": [
    {
     "output_type": "execute_result",
     "data": {
      "text/plain": [
       "          # of months count    min_date    max_date\n",
       "68373877                  4  2018/12/31   2020/6/30\n",
       "40005319                 29  2017/10/31   2020/9/30\n",
       "40224738                 25  2018/10/31   2020/9/30\n",
       "60001423                 33  2017/10/31   2020/6/30\n",
       "60001642                  6  2017/12/31   2020/6/30\n",
       "...                     ...         ...         ...\n",
       "62001911                  3   2018/2/28   2020/2/29\n",
       "62002905                  2   2018/9/30   2019/9/30\n",
       "62903721                  1  2019/10/31  2019/10/31\n",
       "60003657                  5  2017/12/31   2019/6/30\n",
       "62903677                  1  2019/12/31  2019/12/31\n",
       "\n",
       "[277 rows x 3 columns]"
      ],
      "text/html": "<div>\n<style scoped>\n    .dataframe tbody tr th:only-of-type {\n        vertical-align: middle;\n    }\n\n    .dataframe tbody tr th {\n        vertical-align: top;\n    }\n\n    .dataframe thead th {\n        text-align: right;\n    }\n</style>\n<table border=\"1\" class=\"dataframe\">\n  <thead>\n    <tr style=\"text-align: right;\">\n      <th></th>\n      <th># of months count</th>\n      <th>min_date</th>\n      <th>max_date</th>\n    </tr>\n  </thead>\n  <tbody>\n    <tr>\n      <th>68373877</th>\n      <td>4</td>\n      <td>2018/12/31</td>\n      <td>2020/6/30</td>\n    </tr>\n    <tr>\n      <th>40005319</th>\n      <td>29</td>\n      <td>2017/10/31</td>\n      <td>2020/9/30</td>\n    </tr>\n    <tr>\n      <th>40224738</th>\n      <td>25</td>\n      <td>2018/10/31</td>\n      <td>2020/9/30</td>\n    </tr>\n    <tr>\n      <th>60001423</th>\n      <td>33</td>\n      <td>2017/10/31</td>\n      <td>2020/6/30</td>\n    </tr>\n    <tr>\n      <th>60001642</th>\n      <td>6</td>\n      <td>2017/12/31</td>\n      <td>2020/6/30</td>\n    </tr>\n    <tr>\n      <th>...</th>\n      <td>...</td>\n      <td>...</td>\n      <td>...</td>\n    </tr>\n    <tr>\n      <th>62001911</th>\n      <td>3</td>\n      <td>2018/2/28</td>\n      <td>2020/2/29</td>\n    </tr>\n    <tr>\n      <th>62002905</th>\n      <td>2</td>\n      <td>2018/9/30</td>\n      <td>2019/9/30</td>\n    </tr>\n    <tr>\n      <th>62903721</th>\n      <td>1</td>\n      <td>2019/10/31</td>\n      <td>2019/10/31</td>\n    </tr>\n    <tr>\n      <th>60003657</th>\n      <td>5</td>\n      <td>2017/12/31</td>\n      <td>2019/6/30</td>\n    </tr>\n    <tr>\n      <th>62903677</th>\n      <td>1</td>\n      <td>2019/12/31</td>\n      <td>2019/12/31</td>\n    </tr>\n  </tbody>\n</table>\n<p>277 rows × 3 columns</p>\n</div>"
     },
     "metadata": {},
     "execution_count": 9
    }
   ],
   "source": [
    "df_holdings_disclosure = df_holdings_3yrs[['LipperID', 'Date']].drop_duplicates().set_index('LipperID')\n",
    "\n",
    "diclose_freq = pd.Series(dict((fund, len(df_holdings_disclosure.loc[fund])) for fund in TOPIX_funds_list), name='# of months count')\n",
    "min_date = pd.Series(dict((fund, df_holdings_disclosure.groupby('LipperID').get_group(fund).sort_values(by='Date').iloc[0][0]) for fund in TOPIX_funds_list), name='min_date')\n",
    "max_date = pd.Series(dict((fund, df_holdings_disclosure.groupby('LipperID').get_group(fund).sort_values(by='Date').iloc[-1][0]) for fund in TOPIX_funds_list), name='max_date')\n",
    "\n",
    "df_holdings_des = pd.concat([diclose_freq, min_date, max_date], axis=1)\n",
    "df_holdings_des"
   ]
  },
  {
   "cell_type": "code",
   "execution_count": 138,
   "metadata": {},
   "outputs": [
    {
     "output_type": "stream",
     "name": "stdout",
     "text": [
      "53\n"
     ]
    },
    {
     "output_type": "execute_result",
     "data": {
      "text/plain": [
       "          # of months count    min_date   max_date\n",
       "68131652                 36  2017/10/31  2020/9/30\n",
       "60011172                 36  2017/10/31  2020/9/30\n",
       "60033977                 36  2017/10/31  2020/9/30\n",
       "65146186                 36  2017/10/31  2020/9/30\n",
       "60052867                 36  2017/10/31  2020/9/30"
      ],
      "text/html": "<div>\n<style scoped>\n    .dataframe tbody tr th:only-of-type {\n        vertical-align: middle;\n    }\n\n    .dataframe tbody tr th {\n        vertical-align: top;\n    }\n\n    .dataframe thead th {\n        text-align: right;\n    }\n</style>\n<table border=\"1\" class=\"dataframe\">\n  <thead>\n    <tr style=\"text-align: right;\">\n      <th></th>\n      <th># of months count</th>\n      <th>min_date</th>\n      <th>max_date</th>\n    </tr>\n  </thead>\n  <tbody>\n    <tr>\n      <th>68131652</th>\n      <td>36</td>\n      <td>2017/10/31</td>\n      <td>2020/9/30</td>\n    </tr>\n    <tr>\n      <th>60011172</th>\n      <td>36</td>\n      <td>2017/10/31</td>\n      <td>2020/9/30</td>\n    </tr>\n    <tr>\n      <th>60033977</th>\n      <td>36</td>\n      <td>2017/10/31</td>\n      <td>2020/9/30</td>\n    </tr>\n    <tr>\n      <th>65146186</th>\n      <td>36</td>\n      <td>2017/10/31</td>\n      <td>2020/9/30</td>\n    </tr>\n    <tr>\n      <th>60052867</th>\n      <td>36</td>\n      <td>2017/10/31</td>\n      <td>2020/9/30</td>\n    </tr>\n  </tbody>\n</table>\n</div>"
     },
     "metadata": {},
     "execution_count": 138
    }
   ],
   "source": [
    "filt = (df_holdings_des['max_date'] >= '2020/8/31') & (df_holdings_des['# of months count'] >= 25)\n",
    "df_funds_chosen = df_holdings_des[filt].sort_values('# of months count', ascending=False) # total 53 funds\n",
    "# df_funds_chosen.to_excel(f'results/Chosen_{benchmark}_funds_DES.xlsx')\n",
    "\n",
    "print(len(df_funds_chosen))\n",
    "df_funds_chosen.head()"
   ]
  },
  {
   "cell_type": "code",
   "execution_count": 190,
   "metadata": {},
   "outputs": [
    {
     "output_type": "execute_result",
     "data": {
      "text/plain": [
       "     LipperID       Date                         Security  WeightCurrent  \\\n",
       "0    60002658 2017-10-31  Murata Manufacturing Co Ltd ORD           2.04   \n",
       "1    60002658 2017-11-30  Murata Manufacturing Co Ltd ORD           1.28   \n",
       "2    60002658 2017-12-31  Murata Manufacturing Co Ltd ORD           0.87   \n",
       "3    60002859 2017-10-31  Murata Manufacturing Co Ltd ORD           3.21   \n",
       "4    60002859 2017-11-30  Murata Manufacturing Co Ltd ORD           2.72   \n",
       "..        ...        ...                              ...            ...   \n",
       "698  68529751 2020-05-31  Murata Manufacturing Co Ltd ORD           1.16   \n",
       "699  68529751 2020-06-30  Murata Manufacturing Co Ltd ORD           1.21   \n",
       "700  68529751 2020-07-31  Murata Manufacturing Co Ltd ORD           1.31   \n",
       "701  68529751 2020-08-31  Murata Manufacturing Co Ltd ORD           0.96   \n",
       "702  68529751 2020-09-30  Murata Manufacturing Co Ltd ORD           1.16   \n",
       "\n",
       "             ISIN  MarketValueHeld Fund_LaunchDate  \n",
       "0    JP3914400001     2.585859e+07      1996-04-30  \n",
       "1    JP3914400001     1.621515e+07      1996-04-30  \n",
       "2    JP3914400001     1.664921e+09      1996-04-30  \n",
       "3    JP3914400001     1.636959e+06      1985-07-31  \n",
       "4    JP3914400001     1.423168e+06      1985-07-31  \n",
       "..            ...              ...             ...  \n",
       "698  JP3914400001     6.932856e+06      2019-04-10  \n",
       "699  JP3914400001     7.025387e+06      2019-04-10  \n",
       "700  JP3914400001     7.500901e+06      2019-04-10  \n",
       "701  JP3914400001     5.910275e+06      2019-04-10  \n",
       "702  JP3914400001     7.111299e+06      2019-04-10  \n",
       "\n",
       "[703 rows x 7 columns]"
      ],
      "text/html": "<div>\n<style scoped>\n    .dataframe tbody tr th:only-of-type {\n        vertical-align: middle;\n    }\n\n    .dataframe tbody tr th {\n        vertical-align: top;\n    }\n\n    .dataframe thead th {\n        text-align: right;\n    }\n</style>\n<table border=\"1\" class=\"dataframe\">\n  <thead>\n    <tr style=\"text-align: right;\">\n      <th></th>\n      <th>LipperID</th>\n      <th>Date</th>\n      <th>Security</th>\n      <th>WeightCurrent</th>\n      <th>ISIN</th>\n      <th>MarketValueHeld</th>\n      <th>Fund_LaunchDate</th>\n    </tr>\n  </thead>\n  <tbody>\n    <tr>\n      <th>0</th>\n      <td>60002658</td>\n      <td>2017-10-31</td>\n      <td>Murata Manufacturing Co Ltd ORD</td>\n      <td>2.04</td>\n      <td>JP3914400001</td>\n      <td>2.585859e+07</td>\n      <td>1996-04-30</td>\n    </tr>\n    <tr>\n      <th>1</th>\n      <td>60002658</td>\n      <td>2017-11-30</td>\n      <td>Murata Manufacturing Co Ltd ORD</td>\n      <td>1.28</td>\n      <td>JP3914400001</td>\n      <td>1.621515e+07</td>\n      <td>1996-04-30</td>\n    </tr>\n    <tr>\n      <th>2</th>\n      <td>60002658</td>\n      <td>2017-12-31</td>\n      <td>Murata Manufacturing Co Ltd ORD</td>\n      <td>0.87</td>\n      <td>JP3914400001</td>\n      <td>1.664921e+09</td>\n      <td>1996-04-30</td>\n    </tr>\n    <tr>\n      <th>3</th>\n      <td>60002859</td>\n      <td>2017-10-31</td>\n      <td>Murata Manufacturing Co Ltd ORD</td>\n      <td>3.21</td>\n      <td>JP3914400001</td>\n      <td>1.636959e+06</td>\n      <td>1985-07-31</td>\n    </tr>\n    <tr>\n      <th>4</th>\n      <td>60002859</td>\n      <td>2017-11-30</td>\n      <td>Murata Manufacturing Co Ltd ORD</td>\n      <td>2.72</td>\n      <td>JP3914400001</td>\n      <td>1.423168e+06</td>\n      <td>1985-07-31</td>\n    </tr>\n    <tr>\n      <th>...</th>\n      <td>...</td>\n      <td>...</td>\n      <td>...</td>\n      <td>...</td>\n      <td>...</td>\n      <td>...</td>\n      <td>...</td>\n    </tr>\n    <tr>\n      <th>698</th>\n      <td>68529751</td>\n      <td>2020-05-31</td>\n      <td>Murata Manufacturing Co Ltd ORD</td>\n      <td>1.16</td>\n      <td>JP3914400001</td>\n      <td>6.932856e+06</td>\n      <td>2019-04-10</td>\n    </tr>\n    <tr>\n      <th>699</th>\n      <td>68529751</td>\n      <td>2020-06-30</td>\n      <td>Murata Manufacturing Co Ltd ORD</td>\n      <td>1.21</td>\n      <td>JP3914400001</td>\n      <td>7.025387e+06</td>\n      <td>2019-04-10</td>\n    </tr>\n    <tr>\n      <th>700</th>\n      <td>68529751</td>\n      <td>2020-07-31</td>\n      <td>Murata Manufacturing Co Ltd ORD</td>\n      <td>1.31</td>\n      <td>JP3914400001</td>\n      <td>7.500901e+06</td>\n      <td>2019-04-10</td>\n    </tr>\n    <tr>\n      <th>701</th>\n      <td>68529751</td>\n      <td>2020-08-31</td>\n      <td>Murata Manufacturing Co Ltd ORD</td>\n      <td>0.96</td>\n      <td>JP3914400001</td>\n      <td>5.910275e+06</td>\n      <td>2019-04-10</td>\n    </tr>\n    <tr>\n      <th>702</th>\n      <td>68529751</td>\n      <td>2020-09-30</td>\n      <td>Murata Manufacturing Co Ltd ORD</td>\n      <td>1.16</td>\n      <td>JP3914400001</td>\n      <td>7.111299e+06</td>\n      <td>2019-04-10</td>\n    </tr>\n  </tbody>\n</table>\n<p>703 rows × 7 columns</p>\n</div>"
     },
     "metadata": {},
     "execution_count": 190
    }
   ],
   "source": [
    "chosen_fund_list = list(df_funds_chosen.reset_index()['index'].unique())\n",
    "filt2 = (df_holdings_3yrs['ISIN'] == stock_isin) & (df_holdings_3yrs['LipperID'].isin(chosen_fund_list)) \n",
    "df_stock_weightings = df_holdings_3yrs[['LipperID', 'Date', 'Security', 'WeightCurrent', 'ISIN', 'MarketValueHeld']][filt2].drop_duplicates(subset=['LipperID','Date'])\n",
    "df_stock_weightings['Date'] = pd.to_datetime(df_stock_weightings['Date'], format=r'%Y/%m/%d')\n",
    "\n",
    "# Add Launch date of funds for bookkeeping and write to excel later\n",
    "df_stock_weightings = df_stock_weightings.merge(df_Topix_funds[['lipper_id', 'launch_date']], how='left', left_on='LipperID', right_on='lipper_id').drop('lipper_id', axis=1)\n",
    "df_stock_weightings.rename(columns={'launch_date':'Fund_LaunchDate'}, inplace=True)\n",
    "df_stock_weightings"
   ]
  },
  {
   "cell_type": "code",
   "execution_count": 210,
   "metadata": {},
   "outputs": [
    {
     "output_type": "execute_result",
     "data": {
      "text/plain": [
       "           FundPoolWeight  Count\n",
       "2017-10-31       1.434064     14\n",
       "2017-11-30       1.024715     12\n",
       "2017-12-31       0.869676     14\n",
       "2018-01-31       1.112208     10\n",
       "2018-02-28       1.176770     11"
      ],
      "text/html": "<div>\n<style scoped>\n    .dataframe tbody tr th:only-of-type {\n        vertical-align: middle;\n    }\n\n    .dataframe tbody tr th {\n        vertical-align: top;\n    }\n\n    .dataframe thead th {\n        text-align: right;\n    }\n</style>\n<table border=\"1\" class=\"dataframe\">\n  <thead>\n    <tr style=\"text-align: right;\">\n      <th></th>\n      <th>FundPoolWeight</th>\n      <th>Count</th>\n    </tr>\n  </thead>\n  <tbody>\n    <tr>\n      <th>2017-10-31</th>\n      <td>1.434064</td>\n      <td>14</td>\n    </tr>\n    <tr>\n      <th>2017-11-30</th>\n      <td>1.024715</td>\n      <td>12</td>\n    </tr>\n    <tr>\n      <th>2017-12-31</th>\n      <td>0.869676</td>\n      <td>14</td>\n    </tr>\n    <tr>\n      <th>2018-01-31</th>\n      <td>1.112208</td>\n      <td>10</td>\n    </tr>\n    <tr>\n      <th>2018-02-28</th>\n      <td>1.176770</td>\n      <td>11</td>\n    </tr>\n  </tbody>\n</table>\n</div>"
     },
     "metadata": {},
     "execution_count": 210
    }
   ],
   "source": [
    "date_list = sorted(df_stock_weightings['Date'].unique())\n",
    "# print(date_list)\n",
    "\n",
    "df_stock_weightings['FundAUM'] = df_stock_weightings['MarketValueHeld'] / (df_stock_weightings['WeightCurrent']/100)\n",
    "date_grp = df_stock_weightings.groupby('Date')\n",
    "\n",
    "fund_wgts = []\n",
    "count = []\n",
    "for date in date_list:\n",
    "    grp = date_grp.get_group(date)\n",
    "    cnt = len(grp)\n",
    "    grp.drop(grp[grp['FundAUM']==np.inf].index, inplace=True)\n",
    "    fund_wgt = sum(grp['MarketValueHeld']) / sum(grp['FundAUM']) * 100\n",
    "    fund_wgts.append('{:3f}'.format(fund_wgt))\n",
    "    count.append(cnt)\n",
    "\n",
    "fund_wgts = pd.DataFrame({'FundPoolWeight':fund_wgts, 'Count': count}, index=date_list)\n",
    "fund_wgts.head()"
   ]
  },
  {
   "cell_type": "code",
   "execution_count": 211,
   "metadata": {},
   "outputs": [
    {
     "output_type": "execute_result",
     "data": {
      "text/plain": [
       "            LipperID                         Security  WeightCurrent  \\\n",
       "Date                                                                   \n",
       "2017-10-31  62003319  Murata Manufacturing Co Ltd ORD           0.71   \n",
       "2017-11-30  62003319  Murata Manufacturing Co Ltd ORD           0.63   \n",
       "2017-12-31  62003319  Murata Manufacturing Co Ltd ORD           0.60   \n",
       "2018-01-31  62003319  Murata Manufacturing Co Ltd ORD           0.61   \n",
       "2018-02-28  62003319  Murata Manufacturing Co Ltd ORD           0.62   \n",
       "\n",
       "                    ISIN  \n",
       "Date                      \n",
       "2017-10-31  JP3914400001  \n",
       "2017-11-30  JP3914400001  \n",
       "2017-12-31  JP3914400001  \n",
       "2018-01-31  JP3914400001  \n",
       "2018-02-28  JP3914400001  "
      ],
      "text/html": "<div>\n<style scoped>\n    .dataframe tbody tr th:only-of-type {\n        vertical-align: middle;\n    }\n\n    .dataframe tbody tr th {\n        vertical-align: top;\n    }\n\n    .dataframe thead th {\n        text-align: right;\n    }\n</style>\n<table border=\"1\" class=\"dataframe\">\n  <thead>\n    <tr style=\"text-align: right;\">\n      <th></th>\n      <th>LipperID</th>\n      <th>Security</th>\n      <th>WeightCurrent</th>\n      <th>ISIN</th>\n    </tr>\n    <tr>\n      <th>Date</th>\n      <th></th>\n      <th></th>\n      <th></th>\n      <th></th>\n    </tr>\n  </thead>\n  <tbody>\n    <tr>\n      <th>2017-10-31</th>\n      <td>62003319</td>\n      <td>Murata Manufacturing Co Ltd ORD</td>\n      <td>0.71</td>\n      <td>JP3914400001</td>\n    </tr>\n    <tr>\n      <th>2017-11-30</th>\n      <td>62003319</td>\n      <td>Murata Manufacturing Co Ltd ORD</td>\n      <td>0.63</td>\n      <td>JP3914400001</td>\n    </tr>\n    <tr>\n      <th>2017-12-31</th>\n      <td>62003319</td>\n      <td>Murata Manufacturing Co Ltd ORD</td>\n      <td>0.60</td>\n      <td>JP3914400001</td>\n    </tr>\n    <tr>\n      <th>2018-01-31</th>\n      <td>62003319</td>\n      <td>Murata Manufacturing Co Ltd ORD</td>\n      <td>0.61</td>\n      <td>JP3914400001</td>\n    </tr>\n    <tr>\n      <th>2018-02-28</th>\n      <td>62003319</td>\n      <td>Murata Manufacturing Co Ltd ORD</td>\n      <td>0.62</td>\n      <td>JP3914400001</td>\n    </tr>\n  </tbody>\n</table>\n</div>"
     },
     "metadata": {},
     "execution_count": 211
    }
   ],
   "source": [
    "df_benchmark = pd.read_csv('data/Nomura_NR_Topix_ETF_holdings_3yr.csv') # Change for different benchmark\n",
    "df_benchmark = df_benchmark[df_benchmark['ISIN']==stock_isin][['LipperID', 'Date', 'Security', 'WeightCurrent', 'ISIN']]\n",
    "missing_data = pd.DataFrame([[62003319, '2019/4/30', 'Murata Maufacturing Co Ltd ORD', 0.8076, 'JP3914400001']\n",
    "                            ,[62003319, '2020/3/31', 'Murata Maufacturing Co Ltd ORD', 0.8139, 'JP3914400001']]\n",
    "                            ,columns=(['LipperID', 'Date', 'Security', 'WeightCurrent', 'ISIN']))\n",
    "\n",
    "df_benchmark = df_benchmark.append(missing_data, ignore_index=True)\n",
    "df_benchmark['Date'] = pd.to_datetime(df_benchmark['Date'], format=r'%Y/%m/%d')\n",
    "df_benchmark = df_benchmark.sort_values('Date', ascending=True).set_index('Date')\n",
    "df_benchmark.head()"
   ]
  },
  {
   "cell_type": "code",
   "execution_count": 209,
   "metadata": {},
   "outputs": [
    {
     "output_type": "execute_result",
     "data": {
      "text/plain": [
       "            BenchmarkID                         Security          ISIN  \\\n",
       "2017-10-31     62003319  Murata Manufacturing Co Ltd ORD  JP3914400001   \n",
       "2017-11-30     62003319  Murata Manufacturing Co Ltd ORD  JP3914400001   \n",
       "2017-12-31     62003319  Murata Manufacturing Co Ltd ORD  JP3914400001   \n",
       "2018-01-31     62003319  Murata Manufacturing Co Ltd ORD  JP3914400001   \n",
       "2018-02-28     62003319  Murata Manufacturing Co Ltd ORD  JP3914400001   \n",
       "\n",
       "            FundCount  Benchmark_StockWgt  \\\n",
       "2017-10-31         14                0.71   \n",
       "2017-11-30         12                0.63   \n",
       "2017-12-31         14                0.60   \n",
       "2018-01-31         10                0.61   \n",
       "2018-02-28         11                0.62   \n",
       "\n",
       "           Avg fund invested weight in stock (%, RHS)  \\\n",
       "2017-10-31                                   1.434064   \n",
       "2017-11-30                                   1.024715   \n",
       "2017-12-31                                   0.869676   \n",
       "2018-01-31                                   1.112208   \n",
       "2018-02-28                                   1.176770   \n",
       "\n",
       "            Diff between fund weight and index weight on stock (%, RHS)  \n",
       "2017-10-31                                           0.724064            \n",
       "2017-11-30                                           0.394715            \n",
       "2017-12-31                                           0.269676            \n",
       "2018-01-31                                           0.502208            \n",
       "2018-02-28                                           0.556770            "
      ],
      "text/html": "<div>\n<style scoped>\n    .dataframe tbody tr th:only-of-type {\n        vertical-align: middle;\n    }\n\n    .dataframe tbody tr th {\n        vertical-align: top;\n    }\n\n    .dataframe thead th {\n        text-align: right;\n    }\n</style>\n<table border=\"1\" class=\"dataframe\">\n  <thead>\n    <tr style=\"text-align: right;\">\n      <th></th>\n      <th>BenchmarkID</th>\n      <th>Security</th>\n      <th>ISIN</th>\n      <th>FundCount</th>\n      <th>Benchmark_StockWgt</th>\n      <th>Avg fund invested weight in stock (%, RHS)</th>\n      <th>Diff between fund weight and index weight on stock (%, RHS)</th>\n    </tr>\n  </thead>\n  <tbody>\n    <tr>\n      <th>2017-10-31</th>\n      <td>62003319</td>\n      <td>Murata Manufacturing Co Ltd ORD</td>\n      <td>JP3914400001</td>\n      <td>14</td>\n      <td>0.71</td>\n      <td>1.434064</td>\n      <td>0.724064</td>\n    </tr>\n    <tr>\n      <th>2017-11-30</th>\n      <td>62003319</td>\n      <td>Murata Manufacturing Co Ltd ORD</td>\n      <td>JP3914400001</td>\n      <td>12</td>\n      <td>0.63</td>\n      <td>1.024715</td>\n      <td>0.394715</td>\n    </tr>\n    <tr>\n      <th>2017-12-31</th>\n      <td>62003319</td>\n      <td>Murata Manufacturing Co Ltd ORD</td>\n      <td>JP3914400001</td>\n      <td>14</td>\n      <td>0.60</td>\n      <td>0.869676</td>\n      <td>0.269676</td>\n    </tr>\n    <tr>\n      <th>2018-01-31</th>\n      <td>62003319</td>\n      <td>Murata Manufacturing Co Ltd ORD</td>\n      <td>JP3914400001</td>\n      <td>10</td>\n      <td>0.61</td>\n      <td>1.112208</td>\n      <td>0.502208</td>\n    </tr>\n    <tr>\n      <th>2018-02-28</th>\n      <td>62003319</td>\n      <td>Murata Manufacturing Co Ltd ORD</td>\n      <td>JP3914400001</td>\n      <td>11</td>\n      <td>0.62</td>\n      <td>1.176770</td>\n      <td>0.556770</td>\n    </tr>\n  </tbody>\n</table>\n</div>"
     },
     "metadata": {},
     "execution_count": 209
    }
   ],
   "source": [
    "df_backtest_final = pd.concat([df_benchmark, fund_wgts], axis=1)\n",
    "df_benchmark['LipperID'] = df_benchmark['LipperID'].apply(lambda x: int(x))\n",
    "df_backtest_final['Diff between fund weight and index weight on stock (%, RHS)'] = df_backtest_final['FundPoolWeight'].apply(lambda x: float(x)) \\\n",
    "                                                                        - df_backtest_final['WeightCurrent'].apply(lambda x: float(x))\n",
    "\n",
    "df_backtest_final.rename(columns={'LipperID':'BenchmarkID', 'WeightCurrent':'Benchmark_StockWgt', 'Count':'FundCount', 'FundPoolWeight':'Avg fund invested weight in stock (%, RHS)'}, inplace=True)\n",
    "df_backtest_final = df_backtest_final[['BenchmarkID', 'Security', 'ISIN', 'FundCount', 'Benchmark_StockWgt', 'Avg fund invested weight in stock (%, RHS)', 'Diff between fund weight and index weight on stock (%, RHS)']]\n",
    "\n",
    "df_backtest_final.head()"
   ]
  },
  {
   "cell_type": "code",
   "execution_count": 207,
   "metadata": {},
   "outputs": [],
   "source": [
    "writer = pd.ExcelWriter(f'results/{stock_name}_backtest_results2.xlsx', writer='xlsxwriter')\n",
    "\n",
    "df_backtest_final.to_excel(writer, sheet_name='final results')\n",
    "df_stock_weightings.to_excel(writer, sheet_name='selected funds raw data')\n",
    "\n",
    "# writer.save()"
   ]
  }
 ]
}